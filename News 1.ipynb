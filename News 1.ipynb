{
 "cells": [
  {
   "cell_type": "code",
   "execution_count": 1,
   "id": "598601b6",
   "metadata": {
    "execution": {
     "iopub.execute_input": "2021-08-30T20:10:37.293887Z",
     "iopub.status.busy": "2021-08-30T20:10:37.293090Z",
     "iopub.status.idle": "2021-08-30T20:10:45.072695Z",
     "shell.execute_reply": "2021-08-30T20:10:45.072101Z",
     "shell.execute_reply.started": "2021-08-30T20:07:19.314534Z"
    },
    "papermill": {
     "duration": 7.807586,
     "end_time": "2021-08-30T20:10:45.072835",
     "exception": false,
     "start_time": "2021-08-30T20:10:37.265249",
     "status": "completed"
    },
    "tags": []
   },
   "outputs": [],
   "source": [
    "import numpy as np \n",
    "import pandas as pd\n",
    "import matplotlib.pyplot as plt\n",
    "import tensorflow as tf\n",
    "import nltk\n",
    "#nltk.download()\n",
    "import sklearn\n",
    "\n",
    "\n",
    "from tensorflow import keras\n",
    "from keras.preprocessing.text import text_to_word_sequence\n",
    "from nltk.corpus import stopwords\n",
    "from nltk.stem import PorterStemmer\n",
    "from nltk.stem import WordNetLemmatizer\n",
    "from nltk.corpus import wordnet\n",
    "from sklearn.feature_extraction.text import TfidfVectorizer\n",
    "from sklearn.feature_extraction.text import TfidfTransformer\n",
    "from sklearn.feature_extraction.text import CountVectorizer\n",
    "from sklearn.model_selection import train_test_split\n",
    "from sklearn import svm\n",
    "from sklearn.naive_bayes import MultinomialNB\n",
    "from sklearn.naive_bayes import GaussianNB\n",
    "from sklearn.metrics import roc_auc_score\n",
    "from sklearn.pipeline import Pipeline\n",
    "from sklearn.metrics import classification_report\n",
    "from sklearn.metrics import accuracy_score\n",
    "from sklearn.tree import DecisionTreeClassifier\n",
    "from sklearn.ensemble import RandomForestClassifier\n"
   ]
  },
  {
   "cell_type": "code",
   "execution_count": 2,
   "id": "ce052c1e",
   "metadata": {
    "execution": {
     "iopub.execute_input": "2021-08-30T20:10:45.121818Z",
     "iopub.status.busy": "2021-08-30T20:10:45.121185Z",
     "iopub.status.idle": "2021-08-30T20:10:45.283828Z",
     "shell.execute_reply": "2021-08-30T20:10:45.284378Z",
     "shell.execute_reply.started": "2021-08-30T20:07:26.885849Z"
    },
    "papermill": {
     "duration": 0.189891,
     "end_time": "2021-08-30T20:10:45.284545",
     "exception": false,
     "start_time": "2021-08-30T20:10:45.094654",
     "status": "completed"
    },
    "tags": []
   },
   "outputs": [],
   "source": [
    "dataset = pd.read_csv('BBC News Train.csv')\n",
    "test_set = pd.read_csv(\"BBC News Test.csv\")"
   ]
  },
  {
   "cell_type": "code",
   "execution_count": 3,
   "id": "31a121de",
   "metadata": {
    "execution": {
     "iopub.execute_input": "2021-08-30T20:10:45.331700Z",
     "iopub.status.busy": "2021-08-30T20:10:45.331110Z",
     "iopub.status.idle": "2021-08-30T20:10:45.355885Z",
     "shell.execute_reply": "2021-08-30T20:10:45.356507Z",
     "shell.execute_reply.started": "2021-08-30T20:07:27.134045Z"
    },
    "papermill": {
     "duration": 0.049838,
     "end_time": "2021-08-30T20:10:45.356674",
     "exception": false,
     "start_time": "2021-08-30T20:10:45.306836",
     "status": "completed"
    },
    "tags": []
   },
   "outputs": [
    {
     "data": {
      "text/html": [
       "<div>\n",
       "<style scoped>\n",
       "    .dataframe tbody tr th:only-of-type {\n",
       "        vertical-align: middle;\n",
       "    }\n",
       "\n",
       "    .dataframe tbody tr th {\n",
       "        vertical-align: top;\n",
       "    }\n",
       "\n",
       "    .dataframe thead th {\n",
       "        text-align: right;\n",
       "    }\n",
       "</style>\n",
       "<table border=\"1\" class=\"dataframe\">\n",
       "  <thead>\n",
       "    <tr style=\"text-align: right;\">\n",
       "      <th></th>\n",
       "      <th>ArticleId</th>\n",
       "      <th>Text</th>\n",
       "      <th>Category</th>\n",
       "    </tr>\n",
       "  </thead>\n",
       "  <tbody>\n",
       "    <tr>\n",
       "      <th>0</th>\n",
       "      <td>1833</td>\n",
       "      <td>worldcom ex-boss launches defence lawyers defe...</td>\n",
       "      <td>business</td>\n",
       "    </tr>\n",
       "    <tr>\n",
       "      <th>1</th>\n",
       "      <td>154</td>\n",
       "      <td>german business confidence slides german busin...</td>\n",
       "      <td>business</td>\n",
       "    </tr>\n",
       "    <tr>\n",
       "      <th>2</th>\n",
       "      <td>1101</td>\n",
       "      <td>bbc poll indicates economic gloom citizens in ...</td>\n",
       "      <td>business</td>\n",
       "    </tr>\n",
       "    <tr>\n",
       "      <th>3</th>\n",
       "      <td>1976</td>\n",
       "      <td>lifestyle  governs mobile choice  faster  bett...</td>\n",
       "      <td>tech</td>\n",
       "    </tr>\n",
       "    <tr>\n",
       "      <th>4</th>\n",
       "      <td>917</td>\n",
       "      <td>enron bosses in $168m payout eighteen former e...</td>\n",
       "      <td>business</td>\n",
       "    </tr>\n",
       "  </tbody>\n",
       "</table>\n",
       "</div>"
      ],
      "text/plain": [
       "   ArticleId                                               Text  Category\n",
       "0       1833  worldcom ex-boss launches defence lawyers defe...  business\n",
       "1        154  german business confidence slides german busin...  business\n",
       "2       1101  bbc poll indicates economic gloom citizens in ...  business\n",
       "3       1976  lifestyle  governs mobile choice  faster  bett...      tech\n",
       "4        917  enron bosses in $168m payout eighteen former e...  business"
      ]
     },
     "execution_count": 3,
     "metadata": {},
     "output_type": "execute_result"
    }
   ],
   "source": [
    "dataset.head()"
   ]
  },
  {
   "cell_type": "code",
   "execution_count": 4,
   "id": "a3761b08",
   "metadata": {
    "execution": {
     "iopub.execute_input": "2021-08-30T20:10:45.403708Z",
     "iopub.status.busy": "2021-08-30T20:10:45.403100Z",
     "iopub.status.idle": "2021-08-30T20:10:45.413142Z",
     "shell.execute_reply": "2021-08-30T20:10:45.412496Z",
     "shell.execute_reply.started": "2021-08-30T20:07:27.163394Z"
    },
    "papermill": {
     "duration": 0.034667,
     "end_time": "2021-08-30T20:10:45.413275",
     "exception": false,
     "start_time": "2021-08-30T20:10:45.378608",
     "status": "completed"
    },
    "tags": []
   },
   "outputs": [
    {
     "name": "stdout",
     "output_type": "stream",
     "text": [
      "['business' 'tech' 'politics' 'sport' 'entertainment']\n"
     ]
    }
   ],
   "source": [
    "target_category = dataset['Category'].unique()\n",
    "print(target_category)"
   ]
  },
  {
   "cell_type": "code",
   "execution_count": 5,
   "id": "b7ec327d",
   "metadata": {
    "execution": {
     "iopub.execute_input": "2021-08-30T20:10:45.461067Z",
     "iopub.status.busy": "2021-08-30T20:10:45.460436Z",
     "iopub.status.idle": "2021-08-30T20:10:45.472216Z",
     "shell.execute_reply": "2021-08-30T20:10:45.471688Z",
     "shell.execute_reply.started": "2021-08-30T20:07:27.174729Z"
    },
    "papermill": {
     "duration": 0.03672,
     "end_time": "2021-08-30T20:10:45.472347",
     "exception": false,
     "start_time": "2021-08-30T20:10:45.435627",
     "status": "completed"
    },
    "tags": []
   },
   "outputs": [
    {
     "data": {
      "text/html": [
       "<div>\n",
       "<style scoped>\n",
       "    .dataframe tbody tr th:only-of-type {\n",
       "        vertical-align: middle;\n",
       "    }\n",
       "\n",
       "    .dataframe tbody tr th {\n",
       "        vertical-align: top;\n",
       "    }\n",
       "\n",
       "    .dataframe thead th {\n",
       "        text-align: right;\n",
       "    }\n",
       "</style>\n",
       "<table border=\"1\" class=\"dataframe\">\n",
       "  <thead>\n",
       "    <tr style=\"text-align: right;\">\n",
       "      <th></th>\n",
       "      <th>ArticleId</th>\n",
       "      <th>Text</th>\n",
       "      <th>Category</th>\n",
       "      <th>categoryId</th>\n",
       "    </tr>\n",
       "  </thead>\n",
       "  <tbody>\n",
       "    <tr>\n",
       "      <th>0</th>\n",
       "      <td>1833</td>\n",
       "      <td>worldcom ex-boss launches defence lawyers defe...</td>\n",
       "      <td>business</td>\n",
       "      <td>0</td>\n",
       "    </tr>\n",
       "    <tr>\n",
       "      <th>1</th>\n",
       "      <td>154</td>\n",
       "      <td>german business confidence slides german busin...</td>\n",
       "      <td>business</td>\n",
       "      <td>0</td>\n",
       "    </tr>\n",
       "    <tr>\n",
       "      <th>2</th>\n",
       "      <td>1101</td>\n",
       "      <td>bbc poll indicates economic gloom citizens in ...</td>\n",
       "      <td>business</td>\n",
       "      <td>0</td>\n",
       "    </tr>\n",
       "    <tr>\n",
       "      <th>3</th>\n",
       "      <td>1976</td>\n",
       "      <td>lifestyle  governs mobile choice  faster  bett...</td>\n",
       "      <td>tech</td>\n",
       "      <td>1</td>\n",
       "    </tr>\n",
       "    <tr>\n",
       "      <th>4</th>\n",
       "      <td>917</td>\n",
       "      <td>enron bosses in $168m payout eighteen former e...</td>\n",
       "      <td>business</td>\n",
       "      <td>0</td>\n",
       "    </tr>\n",
       "  </tbody>\n",
       "</table>\n",
       "</div>"
      ],
      "text/plain": [
       "   ArticleId                                               Text  Category  \\\n",
       "0       1833  worldcom ex-boss launches defence lawyers defe...  business   \n",
       "1        154  german business confidence slides german busin...  business   \n",
       "2       1101  bbc poll indicates economic gloom citizens in ...  business   \n",
       "3       1976  lifestyle  governs mobile choice  faster  bett...      tech   \n",
       "4        917  enron bosses in $168m payout eighteen former e...  business   \n",
       "\n",
       "   categoryId  \n",
       "0           0  \n",
       "1           0  \n",
       "2           0  \n",
       "3           1  \n",
       "4           0  "
      ]
     },
     "execution_count": 5,
     "metadata": {},
     "output_type": "execute_result"
    }
   ],
   "source": [
    "dataset['categoryId'] = dataset['Category'].factorize()[0]\n",
    "dataset.head()"
   ]
  },
  {
   "cell_type": "code",
   "execution_count": 6,
   "id": "4658e3f0",
   "metadata": {
    "execution": {
     "iopub.execute_input": "2021-08-30T20:10:45.521113Z",
     "iopub.status.busy": "2021-08-30T20:10:45.520489Z",
     "iopub.status.idle": "2021-08-30T20:10:45.537397Z",
     "shell.execute_reply": "2021-08-30T20:10:45.536745Z",
     "shell.execute_reply.started": "2021-08-30T20:07:27.197135Z"
    },
    "papermill": {
     "duration": 0.04264,
     "end_time": "2021-08-30T20:10:45.537533",
     "exception": false,
     "start_time": "2021-08-30T20:10:45.494893",
     "status": "completed"
    },
    "tags": []
   },
   "outputs": [
    {
     "data": {
      "text/html": [
       "<div>\n",
       "<style scoped>\n",
       "    .dataframe tbody tr th:only-of-type {\n",
       "        vertical-align: middle;\n",
       "    }\n",
       "\n",
       "    .dataframe tbody tr th {\n",
       "        vertical-align: top;\n",
       "    }\n",
       "\n",
       "    .dataframe thead th {\n",
       "        text-align: right;\n",
       "    }\n",
       "</style>\n",
       "<table border=\"1\" class=\"dataframe\">\n",
       "  <thead>\n",
       "    <tr style=\"text-align: right;\">\n",
       "      <th></th>\n",
       "      <th>Category</th>\n",
       "      <th>categoryId</th>\n",
       "    </tr>\n",
       "  </thead>\n",
       "  <tbody>\n",
       "    <tr>\n",
       "      <th>0</th>\n",
       "      <td>business</td>\n",
       "      <td>0</td>\n",
       "    </tr>\n",
       "    <tr>\n",
       "      <th>3</th>\n",
       "      <td>tech</td>\n",
       "      <td>1</td>\n",
       "    </tr>\n",
       "    <tr>\n",
       "      <th>5</th>\n",
       "      <td>politics</td>\n",
       "      <td>2</td>\n",
       "    </tr>\n",
       "    <tr>\n",
       "      <th>6</th>\n",
       "      <td>sport</td>\n",
       "      <td>3</td>\n",
       "    </tr>\n",
       "    <tr>\n",
       "      <th>7</th>\n",
       "      <td>entertainment</td>\n",
       "      <td>4</td>\n",
       "    </tr>\n",
       "  </tbody>\n",
       "</table>\n",
       "</div>"
      ],
      "text/plain": [
       "        Category  categoryId\n",
       "0       business           0\n",
       "3           tech           1\n",
       "5       politics           2\n",
       "6          sport           3\n",
       "7  entertainment           4"
      ]
     },
     "execution_count": 6,
     "metadata": {},
     "output_type": "execute_result"
    }
   ],
   "source": [
    "category = dataset[[\"Category\",\"categoryId\"]].drop_duplicates().sort_values('categoryId')\n",
    "category"
   ]
  },
  {
   "cell_type": "code",
   "execution_count": 7,
   "id": "d9290dc0",
   "metadata": {
    "execution": {
     "iopub.execute_input": "2021-08-30T20:10:45.591799Z",
     "iopub.status.busy": "2021-08-30T20:10:45.590691Z",
     "iopub.status.idle": "2021-08-30T20:10:45.598436Z",
     "shell.execute_reply": "2021-08-30T20:10:45.597805Z",
     "shell.execute_reply.started": "2021-08-30T20:07:27.218887Z"
    },
    "papermill": {
     "duration": 0.037584,
     "end_time": "2021-08-30T20:10:45.598574",
     "exception": false,
     "start_time": "2021-08-30T20:10:45.560990",
     "status": "completed"
    },
    "tags": []
   },
   "outputs": [
    {
     "data": {
      "text/plain": [
       "Category\n",
       "business         336\n",
       "entertainment    273\n",
       "politics         274\n",
       "sport            346\n",
       "tech             261\n",
       "Name: categoryId, dtype: int64"
      ]
     },
     "execution_count": 7,
     "metadata": {},
     "output_type": "execute_result"
    }
   ],
   "source": [
    "dataset.groupby('Category').categoryId.count()"
   ]
  },
  {
   "cell_type": "markdown",
   "id": "ce5f5b2c",
   "metadata": {
    "papermill": {
     "duration": 0.023434,
     "end_time": "2021-08-30T20:10:45.645970",
     "exception": false,
     "start_time": "2021-08-30T20:10:45.622536",
     "status": "completed"
    },
    "tags": []
   },
   "source": [
    "# Data Visualization"
   ]
  },
  {
   "cell_type": "code",
   "execution_count": 8,
   "id": "4465f4e6",
   "metadata": {
    "execution": {
     "iopub.execute_input": "2021-08-30T20:10:45.695984Z",
     "iopub.status.busy": "2021-08-30T20:10:45.695374Z",
     "iopub.status.idle": "2021-08-30T20:10:45.911501Z",
     "shell.execute_reply": "2021-08-30T20:10:45.912028Z",
     "shell.execute_reply.started": "2021-08-30T20:07:27.230912Z"
    },
    "papermill": {
     "duration": 0.242651,
     "end_time": "2021-08-30T20:10:45.912200",
     "exception": false,
     "start_time": "2021-08-30T20:10:45.669549",
     "status": "completed"
    },
    "tags": []
   },
   "outputs": [
    {
     "data": {
      "text/plain": [
       "<AxesSubplot:xlabel='Category'>"
      ]
     },
     "execution_count": 8,
     "metadata": {},
     "output_type": "execute_result"
    },
    {
     "data": {
      "image/png": "[encoded data removed]",
      "text/plain": [
       "<Figure size 640x480 with 1 Axes>"
      ]
     },
     "metadata": {},
     "output_type": "display_data"
    }
   ],
   "source": [
    "dataset.groupby('Category').categoryId.count().plot.bar(ylim=0)"
   ]
  },
  {
   "cell_type": "code",
   "execution_count": 9,
   "id": "2b4a7f37",
   "metadata": {
    "execution": {
     "iopub.execute_input": "2021-08-30T20:10:45.968742Z",
     "iopub.status.busy": "2021-08-30T20:10:45.968099Z",
     "iopub.status.idle": "2021-08-30T20:10:45.972083Z",
     "shell.execute_reply": "2021-08-30T20:10:45.971579Z",
     "shell.execute_reply.started": "2021-08-30T20:07:27.448773Z"
    },
    "papermill": {
     "duration": 0.035589,
     "end_time": "2021-08-30T20:10:45.972232",
     "exception": false,
     "start_time": "2021-08-30T20:10:45.936643",
     "status": "completed"
    },
    "tags": []
   },
   "outputs": [
    {
     "data": {
      "text/plain": [
       "0    worldcom ex-boss launches defence lawyers defe...\n",
       "1    german business confidence slides german busin...\n",
       "2    bbc poll indicates economic gloom citizens in ...\n",
       "3    lifestyle  governs mobile choice  faster  bett...\n",
       "4    enron bosses in $168m payout eighteen former e...\n",
       "Name: Text, dtype: object"
      ]
     },
     "execution_count": 9,
     "metadata": {},
     "output_type": "execute_result"
    }
   ],
   "source": [
    "text = dataset[\"Text\"] \n",
    "text.head()"
   ]
  },
  {
   "cell_type": "code",
   "execution_count": 10,
   "id": "3bba0122",
   "metadata": {
    "execution": {
     "iopub.execute_input": "2021-08-30T20:10:46.029750Z",
     "iopub.status.busy": "2021-08-30T20:10:46.029077Z",
     "iopub.status.idle": "2021-08-30T20:10:46.031663Z",
     "shell.execute_reply": "2021-08-30T20:10:46.032188Z",
     "shell.execute_reply.started": "2021-08-30T20:07:27.459368Z"
    },
    "papermill": {
     "duration": 0.034877,
     "end_time": "2021-08-30T20:10:46.032368",
     "exception": false,
     "start_time": "2021-08-30T20:10:45.997491",
     "status": "completed"
    },
    "tags": []
   },
   "outputs": [
    {
     "data": {
      "text/plain": [
       "0    business\n",
       "1    business\n",
       "2    business\n",
       "3        tech\n",
       "4    business\n",
       "Name: Category, dtype: object"
      ]
     },
     "execution_count": 10,
     "metadata": {},
     "output_type": "execute_result"
    }
   ],
   "source": [
    "category = dataset[\"Category\"]\n",
    "category.head()"
   ]
  },
  {
   "cell_type": "markdown",
   "id": "8321f2fd",
   "metadata": {
    "papermill": {
     "duration": 0.025282,
     "end_time": "2021-08-30T20:10:46.083375",
     "exception": false,
     "start_time": "2021-08-30T20:10:46.058093",
     "status": "completed"
    },
    "tags": []
   },
   "source": [
    "# Data Preprocessing"
   ]
  },
  {
   "cell_type": "code",
   "execution_count": 11,
   "id": "6dcd5a36",
   "metadata": {
    "execution": {
     "iopub.execute_input": "2021-08-30T20:10:46.137848Z",
     "iopub.status.busy": "2021-08-30T20:10:46.137193Z",
     "iopub.status.idle": "2021-08-30T20:10:46.147119Z",
     "shell.execute_reply": "2021-08-30T20:10:46.147599Z",
     "shell.execute_reply.started": "2021-08-30T20:07:27.475217Z"
    },
    "papermill": {
     "duration": 0.03872,
     "end_time": "2021-08-30T20:10:46.147782",
     "exception": false,
     "start_time": "2021-08-30T20:10:46.109062",
     "status": "completed"
    },
    "tags": []
   },
   "outputs": [],
   "source": [
    "def preprocessDataset(train_text):\n",
    "       \n",
    "    #word tokenization using text-to-word-sequence\n",
    "    train_text= str(train_text)\n",
    "    tokenized_train_set = text_to_word_sequence(train_text,filters='!\"#$%&()*+,-./:;<=>?@[\\\\]^_`{|}~\\t\\n',lower=True,split=\" \")\n",
    "        \n",
    "    #stop word removal\n",
    "    stop_words = set(stopwords.words('english'))\n",
    "    stopwordremove = [i for i in tokenized_train_set if not i in stop_words]\n",
    "        \n",
    "     \n",
    "    #join words into sentence\n",
    "    stopwordremove_text = ' '.join(stopwordremove)\n",
    "        \n",
    "        \n",
    "    #remove numbers\n",
    "    numberremove_text = ''.join(c for c in stopwordremove_text if not c.isdigit())\n",
    "       \n",
    "        \n",
    "    #--Stemming--\n",
    "    stemmer= PorterStemmer()\n",
    "\n",
    "    stem_input=nltk.word_tokenize(numberremove_text)\n",
    "    stem_text=' '.join([stemmer.stem(word) for word in stem_input])\n",
    "        \n",
    "        \n",
    "    lemmatizer = WordNetLemmatizer()\n",
    "\n",
    "    def get_wordnet_pos(word):\n",
    "        \"\"\"Map POS tag to first character lemmatize() accepts\"\"\"\n",
    "        tag = nltk.pos_tag([word])[0][1][0].upper()\n",
    "        tag_dict = {\"J\": wordnet.ADJ,\n",
    "                \"N\": wordnet.NOUN,\n",
    "                \"V\": wordnet.VERB,\n",
    "                \"R\": wordnet.ADV}\n",
    "\n",
    "        return tag_dict.get(tag, wordnet.NOUN)\n",
    "\n",
    "    lem_input = nltk.word_tokenize(stem_text)\n",
    "    lem_text= ' '.join([lemmatizer.lemmatize(w, get_wordnet_pos(w)) for w in lem_input])\n",
    "        \n",
    "    return lem_text\n",
    "\n"
   ]
  },
  {
   "cell_type": "code",
   "execution_count": 12,
   "id": "29e42255",
   "metadata": {
    "execution": {
     "iopub.execute_input": "2021-08-30T20:10:46.201755Z",
     "iopub.status.busy": "2021-08-30T20:10:46.201129Z",
     "iopub.status.idle": "2021-08-30T20:12:04.104777Z",
     "shell.execute_reply": "2021-08-30T20:12:04.105314Z",
     "shell.execute_reply.started": "2021-08-30T20:07:27.491470Z"
    },
    "papermill": {
     "duration": 77.93216,
     "end_time": "2021-08-30T20:12:04.105488",
     "exception": false,
     "start_time": "2021-08-30T20:10:46.173328",
     "status": "completed"
    },
    "tags": []
   },
   "outputs": [
    {
     "ename": "LookupError",
     "evalue": "\n**********************************************************************\n  Resource \u001b[93mpunkt\u001b[0m not found.\n  Please use the NLTK Downloader to obtain the resource:\n\n  \u001b[31m>>> import nltk\n  >>> nltk.download('punkt')\n  \u001b[0m\n  For more information see: https://www.nltk.org/data.html\n\n  Attempted to load \u001b[93mtokenizers/punkt/english.pickle\u001b[0m\n\n  Searched in:\n    - 'C:\\\\Users\\\\mahmu/nltk_data'\n    - 'C:\\\\Users\\\\mahmu\\\\anaconda3\\\\nltk_data'\n    - 'C:\\\\Users\\\\mahmu\\\\anaconda3\\\\share\\\\nltk_data'\n    - 'C:\\\\Users\\\\mahmu\\\\anaconda3\\\\lib\\\\nltk_data'\n    - 'C:\\\\Users\\\\mahmu\\\\AppData\\\\Roaming\\\\nltk_data'\n    - 'C:\\\\nltk_data'\n    - 'D:\\\\nltk_data'\n    - 'E:\\\\nltk_data'\n    - ''\n**********************************************************************\n",
     "output_type": "error",
     "traceback": [
      "\u001b[1;31m---------------------------------------------------------------------------\u001b[0m",
      "\u001b[1;31mLookupError\u001b[0m                               Traceback (most recent call last)",
      "\u001b[1;32m~\\AppData\\Local\\Temp\\ipykernel_10404\\1863012538.py\u001b[0m in \u001b[0;36m<module>\u001b[1;34m\u001b[0m\n\u001b[1;32m----> 1\u001b[1;33m \u001b[0mdataset\u001b[0m\u001b[1;33m[\u001b[0m\u001b[1;34m'Text'\u001b[0m\u001b[1;33m]\u001b[0m \u001b[1;33m=\u001b[0m \u001b[0mdataset\u001b[0m\u001b[1;33m[\u001b[0m\u001b[1;34m'Text'\u001b[0m\u001b[1;33m]\u001b[0m\u001b[1;33m.\u001b[0m\u001b[0mapply\u001b[0m\u001b[1;33m(\u001b[0m\u001b[0mpreprocessDataset\u001b[0m\u001b[1;33m)\u001b[0m\u001b[1;33m\u001b[0m\u001b[1;33m\u001b[0m\u001b[0m\n\u001b[0m\u001b[0;32m      2\u001b[0m \u001b[0mtext\u001b[0m \u001b[1;33m=\u001b[0m \u001b[0mdataset\u001b[0m\u001b[1;33m[\u001b[0m\u001b[1;34m'Text'\u001b[0m\u001b[1;33m]\u001b[0m\u001b[1;33m\u001b[0m\u001b[1;33m\u001b[0m\u001b[0m\n\u001b[0;32m      3\u001b[0m \u001b[0mcategory\u001b[0m \u001b[1;33m=\u001b[0m \u001b[0mdataset\u001b[0m\u001b[1;33m[\u001b[0m\u001b[1;34m'Category'\u001b[0m\u001b[1;33m]\u001b[0m\u001b[1;33m\u001b[0m\u001b[1;33m\u001b[0m\u001b[0m\n\u001b[0;32m      4\u001b[0m \u001b[0mtext\u001b[0m\u001b[1;33m.\u001b[0m\u001b[0mhead\u001b[0m\u001b[1;33m(\u001b[0m\u001b[1;33m)\u001b[0m\u001b[1;33m\u001b[0m\u001b[1;33m\u001b[0m\u001b[0m\n",
      "\u001b[1;32m~\\anaconda3\\lib\\site-packages\\pandas\\core\\series.py\u001b[0m in \u001b[0;36mapply\u001b[1;34m(self, func, convert_dtype, args, **kwargs)\u001b[0m\n\u001b[0;32m   4431\u001b[0m         \u001b[0mdtype\u001b[0m\u001b[1;33m:\u001b[0m \u001b[0mfloat64\u001b[0m\u001b[1;33m\u001b[0m\u001b[1;33m\u001b[0m\u001b[0m\n\u001b[0;32m   4432\u001b[0m         \"\"\"\n\u001b[1;32m-> 4433\u001b[1;33m         \u001b[1;32mreturn\u001b[0m \u001b[0mSeriesApply\u001b[0m\u001b[1;33m(\u001b[0m\u001b[0mself\u001b[0m\u001b[1;33m,\u001b[0m \u001b[0mfunc\u001b[0m\u001b[1;33m,\u001b[0m \u001b[0mconvert_dtype\u001b[0m\u001b[1;33m,\u001b[0m \u001b[0margs\u001b[0m\u001b[1;33m,\u001b[0m \u001b[0mkwargs\u001b[0m\u001b[1;33m)\u001b[0m\u001b[1;33m.\u001b[0m\u001b[0mapply\u001b[0m\u001b[1;33m(\u001b[0m\u001b[1;33m)\u001b[0m\u001b[1;33m\u001b[0m\u001b[1;33m\u001b[0m\u001b[0m\n\u001b[0m\u001b[0;32m   4434\u001b[0m \u001b[1;33m\u001b[0m\u001b[0m\n\u001b[0;32m   4435\u001b[0m     def _reduce(\n",
      "\u001b[1;32m~\\anaconda3\\lib\\site-packages\\pandas\\core\\apply.py\u001b[0m in \u001b[0;36mapply\u001b[1;34m(self)\u001b[0m\n\u001b[0;32m   1086\u001b[0m             \u001b[1;32mreturn\u001b[0m \u001b[0mself\u001b[0m\u001b[1;33m.\u001b[0m\u001b[0mapply_str\u001b[0m\u001b[1;33m(\u001b[0m\u001b[1;33m)\u001b[0m\u001b[1;33m\u001b[0m\u001b[1;33m\u001b[0m\u001b[0m\n\u001b[0;32m   1087\u001b[0m \u001b[1;33m\u001b[0m\u001b[0m\n\u001b[1;32m-> 1088\u001b[1;33m         \u001b[1;32mreturn\u001b[0m \u001b[0mself\u001b[0m\u001b[1;33m.\u001b[0m\u001b[0mapply_standard\u001b[0m\u001b[1;33m(\u001b[0m\u001b[1;33m)\u001b[0m\u001b[1;33m\u001b[0m\u001b[1;33m\u001b[0m\u001b[0m\n\u001b[0m\u001b[0;32m   1089\u001b[0m \u001b[1;33m\u001b[0m\u001b[0m\n\u001b[0;32m   1090\u001b[0m     \u001b[1;32mdef\u001b[0m \u001b[0magg\u001b[0m\u001b[1;33m(\u001b[0m\u001b[0mself\u001b[0m\u001b[1;33m)\u001b[0m\u001b[1;33m:\u001b[0m\u001b[1;33m\u001b[0m\u001b[1;33m\u001b[0m\u001b[0m\n",
      "\u001b[1;32m~\\anaconda3\\lib\\site-packages\\pandas\\core\\apply.py\u001b[0m in \u001b[0;36mapply_standard\u001b[1;34m(self)\u001b[0m\n\u001b[0;32m   1141\u001b[0m                 \u001b[1;31m# List[Union[Callable[..., Any], str]]]]]\"; expected\u001b[0m\u001b[1;33m\u001b[0m\u001b[1;33m\u001b[0m\u001b[0m\n\u001b[0;32m   1142\u001b[0m                 \u001b[1;31m# \"Callable[[Any], Any]\"\u001b[0m\u001b[1;33m\u001b[0m\u001b[1;33m\u001b[0m\u001b[0m\n\u001b[1;32m-> 1143\u001b[1;33m                 mapped = lib.map_infer(\n\u001b[0m\u001b[0;32m   1144\u001b[0m                     \u001b[0mvalues\u001b[0m\u001b[1;33m,\u001b[0m\u001b[1;33m\u001b[0m\u001b[1;33m\u001b[0m\u001b[0m\n\u001b[0;32m   1145\u001b[0m                     \u001b[0mf\u001b[0m\u001b[1;33m,\u001b[0m  \u001b[1;31m# type: ignore[arg-type]\u001b[0m\u001b[1;33m\u001b[0m\u001b[1;33m\u001b[0m\u001b[0m\n",
      "\u001b[1;32m~\\anaconda3\\lib\\site-packages\\pandas\\_libs\\lib.pyx\u001b[0m in \u001b[0;36mpandas._libs.lib.map_infer\u001b[1;34m()\u001b[0m\n",
      "\u001b[1;32m~\\AppData\\Local\\Temp\\ipykernel_10404\\2067779169.py\u001b[0m in \u001b[0;36mpreprocessDataset\u001b[1;34m(train_text)\u001b[0m\n\u001b[0;32m     21\u001b[0m     \u001b[0mstemmer\u001b[0m\u001b[1;33m=\u001b[0m \u001b[0mPorterStemmer\u001b[0m\u001b[1;33m(\u001b[0m\u001b[1;33m)\u001b[0m\u001b[1;33m\u001b[0m\u001b[1;33m\u001b[0m\u001b[0m\n\u001b[0;32m     22\u001b[0m \u001b[1;33m\u001b[0m\u001b[0m\n\u001b[1;32m---> 23\u001b[1;33m     \u001b[0mstem_input\u001b[0m\u001b[1;33m=\u001b[0m\u001b[0mnltk\u001b[0m\u001b[1;33m.\u001b[0m\u001b[0mword_tokenize\u001b[0m\u001b[1;33m(\u001b[0m\u001b[0mnumberremove_text\u001b[0m\u001b[1;33m)\u001b[0m\u001b[1;33m\u001b[0m\u001b[1;33m\u001b[0m\u001b[0m\n\u001b[0m\u001b[0;32m     24\u001b[0m     \u001b[0mstem_text\u001b[0m\u001b[1;33m=\u001b[0m\u001b[1;34m' '\u001b[0m\u001b[1;33m.\u001b[0m\u001b[0mjoin\u001b[0m\u001b[1;33m(\u001b[0m\u001b[1;33m[\u001b[0m\u001b[0mstemmer\u001b[0m\u001b[1;33m.\u001b[0m\u001b[0mstem\u001b[0m\u001b[1;33m(\u001b[0m\u001b[0mword\u001b[0m\u001b[1;33m)\u001b[0m \u001b[1;32mfor\u001b[0m \u001b[0mword\u001b[0m \u001b[1;32min\u001b[0m \u001b[0mstem_input\u001b[0m\u001b[1;33m]\u001b[0m\u001b[1;33m)\u001b[0m\u001b[1;33m\u001b[0m\u001b[1;33m\u001b[0m\u001b[0m\n\u001b[0;32m     25\u001b[0m \u001b[1;33m\u001b[0m\u001b[0m\n",
      "\u001b[1;32m~\\anaconda3\\lib\\site-packages\\nltk\\tokenize\\__init__.py\u001b[0m in \u001b[0;36mword_tokenize\u001b[1;34m(text, language, preserve_line)\u001b[0m\n\u001b[0;32m    127\u001b[0m     \u001b[1;33m:\u001b[0m\u001b[0mtype\u001b[0m \u001b[0mpreserve_line\u001b[0m\u001b[1;33m:\u001b[0m \u001b[0mbool\u001b[0m\u001b[1;33m\u001b[0m\u001b[1;33m\u001b[0m\u001b[0m\n\u001b[0;32m    128\u001b[0m     \"\"\"\n\u001b[1;32m--> 129\u001b[1;33m     \u001b[0msentences\u001b[0m \u001b[1;33m=\u001b[0m \u001b[1;33m[\u001b[0m\u001b[0mtext\u001b[0m\u001b[1;33m]\u001b[0m \u001b[1;32mif\u001b[0m \u001b[0mpreserve_line\u001b[0m \u001b[1;32melse\u001b[0m \u001b[0msent_tokenize\u001b[0m\u001b[1;33m(\u001b[0m\u001b[0mtext\u001b[0m\u001b[1;33m,\u001b[0m \u001b[0mlanguage\u001b[0m\u001b[1;33m)\u001b[0m\u001b[1;33m\u001b[0m\u001b[1;33m\u001b[0m\u001b[0m\n\u001b[0m\u001b[0;32m    130\u001b[0m     return [\n\u001b[0;32m    131\u001b[0m         \u001b[0mtoken\u001b[0m \u001b[1;32mfor\u001b[0m \u001b[0msent\u001b[0m \u001b[1;32min\u001b[0m \u001b[0msentences\u001b[0m \u001b[1;32mfor\u001b[0m \u001b[0mtoken\u001b[0m \u001b[1;32min\u001b[0m \u001b[0m_treebank_word_tokenizer\u001b[0m\u001b[1;33m.\u001b[0m\u001b[0mtokenize\u001b[0m\u001b[1;33m(\u001b[0m\u001b[0msent\u001b[0m\u001b[1;33m)\u001b[0m\u001b[1;33m\u001b[0m\u001b[1;33m\u001b[0m\u001b[0m\n",
      "\u001b[1;32m~\\anaconda3\\lib\\site-packages\\nltk\\tokenize\\__init__.py\u001b[0m in \u001b[0;36msent_tokenize\u001b[1;34m(text, language)\u001b[0m\n\u001b[0;32m    104\u001b[0m     \u001b[1;33m:\u001b[0m\u001b[0mparam\u001b[0m \u001b[0mlanguage\u001b[0m\u001b[1;33m:\u001b[0m \u001b[0mthe\u001b[0m \u001b[0mmodel\u001b[0m \u001b[0mname\u001b[0m \u001b[1;32min\u001b[0m \u001b[0mthe\u001b[0m \u001b[0mPunkt\u001b[0m \u001b[0mcorpus\u001b[0m\u001b[1;33m\u001b[0m\u001b[1;33m\u001b[0m\u001b[0m\n\u001b[0;32m    105\u001b[0m     \"\"\"\n\u001b[1;32m--> 106\u001b[1;33m     \u001b[0mtokenizer\u001b[0m \u001b[1;33m=\u001b[0m \u001b[0mload\u001b[0m\u001b[1;33m(\u001b[0m\u001b[1;34mf\"tokenizers/punkt/{language}.pickle\"\u001b[0m\u001b[1;33m)\u001b[0m\u001b[1;33m\u001b[0m\u001b[1;33m\u001b[0m\u001b[0m\n\u001b[0m\u001b[0;32m    107\u001b[0m     \u001b[1;32mreturn\u001b[0m \u001b[0mtokenizer\u001b[0m\u001b[1;33m.\u001b[0m\u001b[0mtokenize\u001b[0m\u001b[1;33m(\u001b[0m\u001b[0mtext\u001b[0m\u001b[1;33m)\u001b[0m\u001b[1;33m\u001b[0m\u001b[1;33m\u001b[0m\u001b[0m\n\u001b[0;32m    108\u001b[0m \u001b[1;33m\u001b[0m\u001b[0m\n",
      "\u001b[1;32m~\\anaconda3\\lib\\site-packages\\nltk\\data.py\u001b[0m in \u001b[0;36mload\u001b[1;34m(resource_url, format, cache, verbose, logic_parser, fstruct_reader, encoding)\u001b[0m\n\u001b[0;32m    748\u001b[0m \u001b[1;33m\u001b[0m\u001b[0m\n\u001b[0;32m    749\u001b[0m     \u001b[1;31m# Load the resource.\u001b[0m\u001b[1;33m\u001b[0m\u001b[1;33m\u001b[0m\u001b[0m\n\u001b[1;32m--> 750\u001b[1;33m     \u001b[0mopened_resource\u001b[0m \u001b[1;33m=\u001b[0m \u001b[0m_open\u001b[0m\u001b[1;33m(\u001b[0m\u001b[0mresource_url\u001b[0m\u001b[1;33m)\u001b[0m\u001b[1;33m\u001b[0m\u001b[1;33m\u001b[0m\u001b[0m\n\u001b[0m\u001b[0;32m    751\u001b[0m \u001b[1;33m\u001b[0m\u001b[0m\n\u001b[0;32m    752\u001b[0m     \u001b[1;32mif\u001b[0m \u001b[0mformat\u001b[0m \u001b[1;33m==\u001b[0m \u001b[1;34m\"raw\"\u001b[0m\u001b[1;33m:\u001b[0m\u001b[1;33m\u001b[0m\u001b[1;33m\u001b[0m\u001b[0m\n",
      "\u001b[1;32m~\\anaconda3\\lib\\site-packages\\nltk\\data.py\u001b[0m in \u001b[0;36m_open\u001b[1;34m(resource_url)\u001b[0m\n\u001b[0;32m    874\u001b[0m \u001b[1;33m\u001b[0m\u001b[0m\n\u001b[0;32m    875\u001b[0m     \u001b[1;32mif\u001b[0m \u001b[0mprotocol\u001b[0m \u001b[1;32mis\u001b[0m \u001b[1;32mNone\u001b[0m \u001b[1;32mor\u001b[0m \u001b[0mprotocol\u001b[0m\u001b[1;33m.\u001b[0m\u001b[0mlower\u001b[0m\u001b[1;33m(\u001b[0m\u001b[1;33m)\u001b[0m \u001b[1;33m==\u001b[0m \u001b[1;34m\"nltk\"\u001b[0m\u001b[1;33m:\u001b[0m\u001b[1;33m\u001b[0m\u001b[1;33m\u001b[0m\u001b[0m\n\u001b[1;32m--> 876\u001b[1;33m         \u001b[1;32mreturn\u001b[0m \u001b[0mfind\u001b[0m\u001b[1;33m(\u001b[0m\u001b[0mpath_\u001b[0m\u001b[1;33m,\u001b[0m \u001b[0mpath\u001b[0m \u001b[1;33m+\u001b[0m \u001b[1;33m[\u001b[0m\u001b[1;34m\"\"\u001b[0m\u001b[1;33m]\u001b[0m\u001b[1;33m)\u001b[0m\u001b[1;33m.\u001b[0m\u001b[0mopen\u001b[0m\u001b[1;33m(\u001b[0m\u001b[1;33m)\u001b[0m\u001b[1;33m\u001b[0m\u001b[1;33m\u001b[0m\u001b[0m\n\u001b[0m\u001b[0;32m    877\u001b[0m     \u001b[1;32melif\u001b[0m \u001b[0mprotocol\u001b[0m\u001b[1;33m.\u001b[0m\u001b[0mlower\u001b[0m\u001b[1;33m(\u001b[0m\u001b[1;33m)\u001b[0m \u001b[1;33m==\u001b[0m \u001b[1;34m\"file\"\u001b[0m\u001b[1;33m:\u001b[0m\u001b[1;33m\u001b[0m\u001b[1;33m\u001b[0m\u001b[0m\n\u001b[0;32m    878\u001b[0m         \u001b[1;31m# urllib might not use mode='rb', so handle this one ourselves:\u001b[0m\u001b[1;33m\u001b[0m\u001b[1;33m\u001b[0m\u001b[0m\n",
      "\u001b[1;32m~\\anaconda3\\lib\\site-packages\\nltk\\data.py\u001b[0m in \u001b[0;36mfind\u001b[1;34m(resource_name, paths)\u001b[0m\n\u001b[0;32m    581\u001b[0m     \u001b[0msep\u001b[0m \u001b[1;33m=\u001b[0m \u001b[1;34m\"*\"\u001b[0m \u001b[1;33m*\u001b[0m \u001b[1;36m70\u001b[0m\u001b[1;33m\u001b[0m\u001b[1;33m\u001b[0m\u001b[0m\n\u001b[0;32m    582\u001b[0m     \u001b[0mresource_not_found\u001b[0m \u001b[1;33m=\u001b[0m \u001b[1;34mf\"\\n{sep}\\n{msg}\\n{sep}\\n\"\u001b[0m\u001b[1;33m\u001b[0m\u001b[1;33m\u001b[0m\u001b[0m\n\u001b[1;32m--> 583\u001b[1;33m     \u001b[1;32mraise\u001b[0m \u001b[0mLookupError\u001b[0m\u001b[1;33m(\u001b[0m\u001b[0mresource_not_found\u001b[0m\u001b[1;33m)\u001b[0m\u001b[1;33m\u001b[0m\u001b[1;33m\u001b[0m\u001b[0m\n\u001b[0m\u001b[0;32m    584\u001b[0m \u001b[1;33m\u001b[0m\u001b[0m\n\u001b[0;32m    585\u001b[0m \u001b[1;33m\u001b[0m\u001b[0m\n",
      "\u001b[1;31mLookupError\u001b[0m: \n**********************************************************************\n  Resource \u001b[93mpunkt\u001b[0m not found.\n  Please use the NLTK Downloader to obtain the resource:\n\n  \u001b[31m>>> import nltk\n  >>> nltk.download('punkt')\n  \u001b[0m\n  For more information see: https://www.nltk.org/data.html\n\n  Attempted to load \u001b[93mtokenizers/punkt/english.pickle\u001b[0m\n\n  Searched in:\n    - 'C:\\\\Users\\\\mahmu/nltk_data'\n    - 'C:\\\\Users\\\\mahmu\\\\anaconda3\\\\nltk_data'\n    - 'C:\\\\Users\\\\mahmu\\\\anaconda3\\\\share\\\\nltk_data'\n    - 'C:\\\\Users\\\\mahmu\\\\anaconda3\\\\lib\\\\nltk_data'\n    - 'C:\\\\Users\\\\mahmu\\\\AppData\\\\Roaming\\\\nltk_data'\n    - 'C:\\\\nltk_data'\n    - 'D:\\\\nltk_data'\n    - 'E:\\\\nltk_data'\n    - ''\n**********************************************************************\n"
     ]
    }
   ],
   "source": [
    "dataset['Text'] = dataset['Text'].apply(preprocessDataset)\n",
    "text = dataset['Text']\n",
    "category = dataset['Category']\n",
    "text.head()"
   ]
  },
  {
   "cell_type": "markdown",
   "id": "af6ebf7d",
   "metadata": {
    "papermill": {
     "duration": 0.025208,
     "end_time": "2021-08-30T20:12:04.156201",
     "exception": false,
     "start_time": "2021-08-30T20:12:04.130993",
     "status": "completed"
    },
    "tags": []
   },
   "source": [
    "# Split train set"
   ]
  },
  {
   "cell_type": "code",
   "execution_count": null,
   "id": "7ca967f9",
   "metadata": {
    "execution": {
     "iopub.execute_input": "2021-08-30T20:12:04.214573Z",
     "iopub.status.busy": "2021-08-30T20:12:04.213840Z",
     "iopub.status.idle": "2021-08-30T20:12:04.221521Z",
     "shell.execute_reply": "2021-08-30T20:12:04.220809Z",
     "shell.execute_reply.started": "2021-08-30T20:08:44.391982Z"
    },
    "papermill": {
     "duration": 0.040014,
     "end_time": "2021-08-30T20:12:04.221670",
     "exception": false,
     "start_time": "2021-08-30T20:12:04.181656",
     "status": "completed"
    },
    "tags": []
   },
   "outputs": [],
   "source": [
    "X_train, X_test, Y_train, Y_test = train_test_split(text,category, test_size = 0.2, random_state = 60,shuffle=True, stratify=category)\n",
    "\n",
    "print(len(X_train))\n",
    "print(len(X_test))"
   ]
  },
  {
   "cell_type": "markdown",
   "id": "3b5ea95e",
   "metadata": {},
   "source": [
    "### SVM "
   ]
  },
  {
   "cell_type": "code",
   "execution_count": null,
   "id": "260d1775",
   "metadata": {},
   "outputs": [],
   "source": [
    "from sklearn.svm import SVC\n",
    "from sklearn.metrics import accuracy_score\n",
    "\n",
    "modelSVC = Pipeline([('tfidf', TfidfVectorizer()),\n",
    "               ('clf', SVC(probability=True)),\n",
    "              ])\n",
    "\n",
    "\n",
    "#modelSVC = SVC(probability=True)\n",
    "modelSVC.fit(X_train,Y_train)\n",
    "\n",
    "test_predict = modelSVC.predict(X_test)\n",
    "\n",
    "train_accuracy = round(modelSVC.score(X_train,Y_train)*100)\n",
    "test_accuracy =round(accuracy_score(test_predict, Y_test)*100)\n",
    "\n",
    "\n",
    "print(\"SVM Train Accuracy Score : {}% \".format(train_accuracy ))\n",
    "print(\"SVM Test Accuracy Score  : {}% \".format(test_accuracy ))\n",
    "print()\n",
    "print(classification_report(test_predict, Y_test, target_names=target_category))"
   ]
  },
  {
   "cell_type": "code",
   "execution_count": null,
   "id": "0617b065",
   "metadata": {},
   "outputs": [],
   "source": [
    "from sklearn.metrics import confusion_matrix\n",
    "from sklearn.metrics import cohen_kappa_score\n",
    "cmSVC = confusion_matrix(Y_test, modelSVC.predict(X_test))\n",
    "\n",
    "#If we use TP TN FP and FN of below's comment we get range\n",
    "#FP = cmSVC.sum(axis=0) - np.diag(cmSVC)  \n",
    "#FN = cmSVC.sum(axis=1) - np.diag(cmSVC)\n",
    "#TP = np.diag(cmSVC)\n",
    "#TN = cmSVC.sum() - (FP + FN + TP)\n",
    "\n",
    "TP = cmSVC[1,1]  \n",
    "TN = cmSVC[0,0] \n",
    "FP = cmSVC[0,1] \n",
    "FN = cmSVC[1,0] \n",
    "\n",
    "# Sensitivity, hit rate, recall, or true positive rate\n",
    "TPR = TP/float(TP+FN)\n",
    "# Specificity or true negative rate\n",
    "TNR = TN/float(TN+FP) \n",
    "# Precision or positive predictive value\n",
    "PPV = TP/float(TP+FP)\n",
    "# Negative predictive value\n",
    "NPV = TN/float(TN+FN)\n",
    "# Fall out or false positive rate\n",
    "FPR = FP/float(FP+TN)\n",
    "# False negative rate\n",
    "FNR = FN/float(TP+FN)\n",
    "# False discovery rate\n",
    "FDR = FP/float(TP+FP)\n",
    "totalSVC=sum(sum(cmSVC))\n",
    "Accuracy = (TN+TP)/totalSVC\n",
    "# MCC\n",
    "val = (TP * TN) - (FP * FN)\n",
    "MCC_SVC = val / np.sqrt((TP + FP) * (TP + FN) * (TN + FP) * (TN + FN))\n",
    "# Cohen Kappa\n",
    "Y_pred = modelSVC.predict(X_test)\n",
    "cohen_score = cohen_kappa_score(Y_test, Y_pred)\n",
    "\n",
    "print(\"Sensitivity/TPR: \" + str(TPR))\n",
    "print(\"FPR: \" + str(FPR))\n",
    "print(\"Specificity/TNR: \" + str(TNR))\n",
    "print(\"MCC: \" + str(MCC_SVC))\n",
    "print(\"Cohen Kappa: \" + str(cohen_score))"
   ]
  },
  {
   "cell_type": "code",
   "execution_count": null,
   "id": "582fa030",
   "metadata": {},
   "outputs": [],
   "source": [
    "from sklearn.model_selection import cross_val_score\n",
    "cv_score_for_SVC = cross_val_score(modelSVC, X_train, Y_train, cv = 10)\n",
    "cv_score_for_SVC"
   ]
  },
  {
   "cell_type": "markdown",
   "id": "d4d4141f",
   "metadata": {},
   "source": [
    "### KNN"
   ]
  },
  {
   "cell_type": "code",
   "execution_count": null,
   "id": "fdd0d15f",
   "metadata": {},
   "outputs": [],
   "source": [
    "from sklearn.neighbors import KNeighborsClassifier\n",
    "from sklearn.metrics import accuracy_score\n",
    "\n",
    "modelKNN = Pipeline([('tfidf', TfidfVectorizer()),\n",
    "               ('clf', KNeighborsClassifier()),\n",
    "              ])\n",
    "\n",
    "\n",
    "#modelSVC = SVC(probability=True)\n",
    "modelKNN.fit(X_train,Y_train)\n",
    "\n",
    "test_predict = modelKNN.predict(X_test)\n",
    "\n",
    "train_accuracy = round(modelKNN.score(X_train,Y_train)*100)\n",
    "test_accuracy =round(accuracy_score(test_predict, Y_test)*100)\n",
    "\n",
    "\n",
    "print(\"KNN Train Accuracy Score : {}% \".format(train_accuracy ))\n",
    "print(\"KNN Test Accuracy Score  : {}% \".format(test_accuracy ))\n",
    "print()\n",
    "print(classification_report(test_predict, Y_test, target_names=target_category))"
   ]
  },
  {
   "cell_type": "code",
   "execution_count": null,
   "id": "69c95dba",
   "metadata": {},
   "outputs": [],
   "source": [
    "from sklearn.metrics import confusion_matrix\n",
    "from sklearn.metrics import cohen_kappa_score\n",
    "cmSVC = confusion_matrix(Y_test, modelKNN.predict(X_test))\n",
    "\n",
    "#If we use TP TN FP and FN of below's comment we get range\n",
    "#FP = cmSVC.sum(axis=0) - np.diag(cmSVC)  \n",
    "#FN = cmSVC.sum(axis=1) - np.diag(cmSVC)\n",
    "#TP = np.diag(cmSVC)\n",
    "#TN = cmSVC.sum() - (FP + FN + TP)\n",
    "\n",
    "TP = cmSVC[1,1]  \n",
    "TN = cmSVC[0,0] \n",
    "FP = cmSVC[0,1] \n",
    "FN = cmSVC[1,0] \n",
    "\n",
    "# Sensitivity, hit rate, recall, or true positive rate\n",
    "TPR = TP/float(TP+FN)\n",
    "# Specificity or true negative rate\n",
    "TNR = TN/float(TN+FP) \n",
    "# Precision or positive predictive value\n",
    "PPV = TP/float(TP+FP)\n",
    "# Negative predictive value\n",
    "NPV = TN/float(TN+FN)\n",
    "# Fall out or false positive rate\n",
    "FPR = FP/float(FP+TN)\n",
    "# False negative rate\n",
    "FNR = FN/float(TP+FN)\n",
    "# False discovery rate\n",
    "FDR = FP/float(TP+FP)\n",
    "totalSVC=sum(sum(cmSVC))\n",
    "Accuracy = (TN+TP)/totalSVC\n",
    "# MCC\n",
    "val = (TP * TN) - (FP * FN)\n",
    "MCC_SVC = val / np.sqrt((TP + FP) * (TP + FN) * (TN + FP) * (TN + FN))\n",
    "# Cohen Kappa\n",
    "Y_pred = modelKNN.predict(X_test)\n",
    "cohen_score = cohen_kappa_score(Y_test, Y_pred)\n",
    "\n",
    "print(\"Sensitivity/TPR: \" + str(TPR))\n",
    "print(\"FPR: \" + str(FPR))\n",
    "print(\"Specificity/TNR: \" + str(TNR))\n",
    "print(\"MCC: \" + str(MCC_SVC))\n",
    "print(\"Cohen Kappa: \" + str(cohen_score))"
   ]
  },
  {
   "cell_type": "code",
   "execution_count": null,
   "id": "f46f91d9",
   "metadata": {},
   "outputs": [],
   "source": [
    "from sklearn.model_selection import cross_val_score\n",
    "cv_score_for_KNN = cross_val_score(modelKNN, X_train, Y_train, cv = 10)\n",
    "cv_score_for_KNN"
   ]
  },
  {
   "cell_type": "markdown",
   "id": "40f8f31d",
   "metadata": {},
   "source": [
    "### Logistic Regression"
   ]
  },
  {
   "cell_type": "code",
   "execution_count": null,
   "id": "df86d067",
   "metadata": {},
   "outputs": [],
   "source": [
    "from sklearn.linear_model import LogisticRegression\n",
    "from sklearn.metrics import accuracy_score\n",
    "\n",
    "modelLR = Pipeline([('tfidf', TfidfVectorizer()),\n",
    "               ('clf', LogisticRegression()),\n",
    "              ])\n",
    "\n",
    "\n",
    "#modelSVC = SVC(probability=True)\n",
    "modelLR.fit(X_train,Y_train)\n",
    "\n",
    "test_predict = modelLR.predict(X_test)\n",
    "\n",
    "train_accuracy = round(modelLR.score(X_train,Y_train)*100)\n",
    "test_accuracy =round(accuracy_score(test_predict, Y_test)*100)\n",
    "\n",
    "\n",
    "print(\"LR Train Accuracy Score : {}% \".format(train_accuracy ))\n",
    "print(\"LR Test Accuracy Score  : {}% \".format(test_accuracy ))\n",
    "print()\n",
    "print(classification_report(test_predict, Y_test, target_names=target_category))"
   ]
  },
  {
   "cell_type": "code",
   "execution_count": null,
   "id": "92c48037",
   "metadata": {},
   "outputs": [],
   "source": [
    "from sklearn.metrics import confusion_matrix\n",
    "from sklearn.metrics import cohen_kappa_score\n",
    "cmSVC = confusion_matrix(Y_test, modelLR.predict(X_test))\n",
    "\n",
    "#If we use TP TN FP and FN of below's comment we get range\n",
    "#FP = cmSVC.sum(axis=0) - np.diag(cmSVC)  \n",
    "#FN = cmSVC.sum(axis=1) - np.diag(cmSVC)\n",
    "#TP = np.diag(cmSVC)\n",
    "#TN = cmSVC.sum() - (FP + FN + TP)\n",
    "\n",
    "TP = cmSVC[1,1]  \n",
    "TN = cmSVC[0,0] \n",
    "FP = cmSVC[0,1] \n",
    "FN = cmSVC[1,0] \n",
    "\n",
    "# Sensitivity, hit rate, recall, or true positive rate\n",
    "TPR = TP/float(TP+FN)\n",
    "# Specificity or true negative rate\n",
    "TNR = TN/float(TN+FP) \n",
    "# Precision or positive predictive value\n",
    "PPV = TP/float(TP+FP)\n",
    "# Negative predictive value\n",
    "NPV = TN/float(TN+FN)\n",
    "# Fall out or false positive rate\n",
    "FPR = FP/float(FP+TN)\n",
    "# False negative rate\n",
    "FNR = FN/float(TP+FN)\n",
    "# False discovery rate\n",
    "FDR = FP/float(TP+FP)\n",
    "totalSVC=sum(sum(cmSVC))\n",
    "Accuracy = (TN+TP)/totalSVC\n",
    "# MCC\n",
    "val = (TP * TN) - (FP * FN)\n",
    "MCC_SVC = val / np.sqrt((TP + FP) * (TP + FN) * (TN + FP) * (TN + FN))\n",
    "# Cohen Kappa\n",
    "Y_pred = modelLR.predict(X_test)\n",
    "cohen_score = cohen_kappa_score(Y_test, Y_pred)\n",
    "\n",
    "print(\"Sensitivity/TPR: \" + str(TPR))\n",
    "print(\"FPR: \" + str(FPR))\n",
    "print(\"Specificity/TNR: \" + str(TNR))\n",
    "print(\"MCC: \" + str(MCC_SVC))\n",
    "print(\"Cohen Kappa: \" + str(cohen_score))"
   ]
  },
  {
   "cell_type": "code",
   "execution_count": null,
   "id": "fc6d6557",
   "metadata": {},
   "outputs": [],
   "source": [
    "from sklearn.model_selection import cross_val_score\n",
    "cv_score_for_LR = cross_val_score(modelLR, X_train, Y_train, cv = 10)\n",
    "cv_score_for_LR"
   ]
  },
  {
   "cell_type": "markdown",
   "id": "c9b0a06a",
   "metadata": {
    "papermill": {
     "duration": 0.025581,
     "end_time": "2021-08-30T20:12:04.273395",
     "exception": false,
     "start_time": "2021-08-30T20:12:04.247814",
     "status": "completed"
    },
    "tags": []
   },
   "source": [
    "# Multinomial Naive Bayes"
   ]
  },
  {
   "cell_type": "code",
   "execution_count": null,
   "id": "ac378c23",
   "metadata": {
    "execution": {
     "iopub.execute_input": "2021-08-30T20:12:04.343999Z",
     "iopub.status.busy": "2021-08-30T20:12:04.338743Z",
     "iopub.status.idle": "2021-08-30T20:12:05.039855Z",
     "shell.execute_reply": "2021-08-30T20:12:05.040654Z",
     "shell.execute_reply.started": "2021-08-30T20:08:44.403855Z"
    },
    "papermill": {
     "duration": 0.741476,
     "end_time": "2021-08-30T20:12:05.040829",
     "exception": false,
     "start_time": "2021-08-30T20:12:04.299353",
     "status": "completed"
    },
    "tags": []
   },
   "outputs": [],
   "source": [
    "modelNB = Pipeline([('tfidf', TfidfVectorizer()),\n",
    "               ('clf', MultinomialNB()),\n",
    "              ])\n",
    "modelNB.fit(X_train,Y_train)\n",
    "\n",
    "test_predict = modelNB.predict(X_test)\n",
    "\n",
    "train_accuracy = round(modelNB.score(X_train,Y_train)*100)\n",
    "test_accuracy =round(accuracy_score(test_predict, Y_test)*100)\n",
    "\n",
    "\n",
    "print(\"Naive Bayes Train Accuracy Score : {}% \".format(train_accuracy ))\n",
    "print(\"Naive Bayes Test Accuracy Score  : {}% \".format(test_accuracy ))\n",
    "print()\n",
    "print(classification_report(test_predict, Y_test, target_names=target_category))\n"
   ]
  },
  {
   "cell_type": "code",
   "execution_count": null,
   "id": "e5a1722e",
   "metadata": {},
   "outputs": [],
   "source": [
    "from sklearn.metrics import confusion_matrix\n",
    "from sklearn.metrics import cohen_kappa_score\n",
    "cmSVC = confusion_matrix(Y_test, modelNB.predict(X_test))\n",
    "\n",
    "#If we use TP TN FP and FN of below's comment we get range\n",
    "#FP = cmSVC.sum(axis=0) - np.diag(cmSVC)  \n",
    "#FN = cmSVC.sum(axis=1) - np.diag(cmSVC)\n",
    "#TP = np.diag(cmSVC)\n",
    "#TN = cmSVC.sum() - (FP + FN + TP)\n",
    "\n",
    "TP = cmSVC[1,1]  \n",
    "TN = cmSVC[0,0] \n",
    "FP = cmSVC[0,1] \n",
    "FN = cmSVC[1,0] \n",
    "\n",
    "# Sensitivity, hit rate, recall, or true positive rate\n",
    "TPR = TP/float(TP+FN)\n",
    "# Specificity or true negative rate\n",
    "TNR = TN/float(TN+FP) \n",
    "# Precision or positive predictive value\n",
    "PPV = TP/float(TP+FP)\n",
    "# Negative predictive value\n",
    "NPV = TN/float(TN+FN)\n",
    "# Fall out or false positive rate\n",
    "FPR = FP/float(FP+TN)\n",
    "# False negative rate\n",
    "FNR = FN/float(TP+FN)\n",
    "# False discovery rate\n",
    "FDR = FP/float(TP+FP)\n",
    "totalSVC=sum(sum(cmSVC))\n",
    "Accuracy = (TN+TP)/totalSVC\n",
    "# MCC\n",
    "val = (TP * TN) - (FP * FN)\n",
    "MCC_SVC = val / np.sqrt((TP + FP) * (TP + FN) * (TN + FP) * (TN + FN))\n",
    "# Cohen Kappa\n",
    "Y_pred = modelNB.predict(X_test)\n",
    "cohen_score = cohen_kappa_score(Y_test, Y_pred)\n",
    "\n",
    "print(\"Sensitivity/TPR: \" + str(TPR))\n",
    "print(\"FPR: \" + str(FPR))\n",
    "print(\"Specificity/TNR: \" + str(TNR))\n",
    "print(\"MCC: \" + str(MCC_SVC))\n",
    "print(\"Cohen Kappa: \" + str(cohen_score))"
   ]
  },
  {
   "cell_type": "code",
   "execution_count": null,
   "id": "4e4153fa",
   "metadata": {},
   "outputs": [],
   "source": [
    "from sklearn.model_selection import cross_val_score\n",
    "cv_score_for_NB = cross_val_score(modelNB, X_train, Y_train, cv = 10)\n",
    "cv_score_for_NB"
   ]
  },
  {
   "cell_type": "markdown",
   "id": "304df155",
   "metadata": {
    "papermill": {
     "duration": 0.025674,
     "end_time": "2021-08-30T20:12:05.092781",
     "exception": false,
     "start_time": "2021-08-30T20:12:05.067107",
     "status": "completed"
    },
    "tags": []
   },
   "source": [
    "# Decision Tree"
   ]
  },
  {
   "cell_type": "code",
   "execution_count": null,
   "id": "9a6be19e",
   "metadata": {
    "execution": {
     "iopub.execute_input": "2021-08-30T20:12:05.195602Z",
     "iopub.status.busy": "2021-08-30T20:12:05.185051Z",
     "iopub.status.idle": "2021-08-30T20:12:06.092046Z",
     "shell.execute_reply": "2021-08-30T20:12:06.093033Z",
     "shell.execute_reply.started": "2021-08-30T20:08:45.140558Z"
    },
    "papermill": {
     "duration": 0.974119,
     "end_time": "2021-08-30T20:12:06.093265",
     "exception": false,
     "start_time": "2021-08-30T20:12:05.119146",
     "status": "completed"
    },
    "tags": []
   },
   "outputs": [],
   "source": [
    "modelDTC = Pipeline([('tfidf', TfidfVectorizer()),\n",
    "                ('dt', DecisionTreeClassifier()),\n",
    "               ])\n",
    "\n",
    "modelDTC.fit(X_train, Y_train)\n",
    "\n",
    "test_predict = modelDTC.predict(X_test)\n",
    "\n",
    "train_accuracy = round(modelDTC.score(X_train,Y_train)*100)\n",
    "test_accuracy =round(accuracy_score(test_predict, Y_test)*100)\n",
    "\n",
    "print(\"Decision Tree Train Accuracy Score : {}% \".format(train_accuracy ))\n",
    "print(\"Decision Tree Test Accuracy Score  : {}% \".format(test_accuracy ))\n",
    "print()\n",
    "print(classification_report(test_predict, Y_test, target_names=target_category))"
   ]
  },
  {
   "cell_type": "code",
   "execution_count": null,
   "id": "bba79ad6",
   "metadata": {},
   "outputs": [],
   "source": [
    "from sklearn.metrics import confusion_matrix\n",
    "from sklearn.metrics import cohen_kappa_score\n",
    "cmSVC = confusion_matrix(Y_test, modelDTC.predict(X_test))\n",
    "\n",
    "#If we use TP TN FP and FN of below's comment we get range\n",
    "#FP = cmSVC.sum(axis=0) - np.diag(cmSVC)  \n",
    "#FN = cmSVC.sum(axis=1) - np.diag(cmSVC)\n",
    "#TP = np.diag(cmSVC)\n",
    "#TN = cmSVC.sum() - (FP + FN + TP)\n",
    "\n",
    "TP = cmSVC[1,1]  \n",
    "TN = cmSVC[0,0] \n",
    "FP = cmSVC[0,1] \n",
    "FN = cmSVC[1,0] \n",
    "\n",
    "# Sensitivity, hit rate, recall, or true positive rate\n",
    "TPR = TP/float(TP+FN)\n",
    "# Specificity or true negative rate\n",
    "TNR = TN/float(TN+FP) \n",
    "# Precision or positive predictive value\n",
    "PPV = TP/float(TP+FP)\n",
    "# Negative predictive value\n",
    "NPV = TN/float(TN+FN)\n",
    "# Fall out or false positive rate\n",
    "FPR = FP/float(FP+TN)\n",
    "# False negative rate\n",
    "FNR = FN/float(TP+FN)\n",
    "# False discovery rate\n",
    "FDR = FP/float(TP+FP)\n",
    "totalSVC=sum(sum(cmSVC))\n",
    "Accuracy = (TN+TP)/totalSVC\n",
    "# MCC\n",
    "val = (TP * TN) - (FP * FN)\n",
    "MCC_SVC = val / np.sqrt((TP + FP) * (TP + FN) * (TN + FP) * (TN + FN))\n",
    "# Cohen Kappa\n",
    "Y_pred = modelDTC.predict(X_test)\n",
    "cohen_score = cohen_kappa_score(Y_test, Y_pred)\n",
    "\n",
    "print(\"Sensitivity/TPR: \" + str(TPR))\n",
    "print(\"FPR: \" + str(FPR))\n",
    "print(\"Specificity/TNR: \" + str(TNR))\n",
    "print(\"MCC: \" + str(MCC_SVC))\n",
    "print(\"Cohen Kappa: \" + str(cohen_score))"
   ]
  },
  {
   "cell_type": "code",
   "execution_count": null,
   "id": "9353bc67",
   "metadata": {},
   "outputs": [],
   "source": [
    "from sklearn.model_selection import cross_val_score\n",
    "cv_score_for_DTC = cross_val_score(modelDTC, X_train, Y_train, cv = 10)\n",
    "cv_score_for_DTC"
   ]
  },
  {
   "cell_type": "markdown",
   "id": "387cbb45",
   "metadata": {
    "papermill": {
     "duration": 0.026525,
     "end_time": "2021-08-30T20:12:06.146545",
     "exception": false,
     "start_time": "2021-08-30T20:12:06.120020",
     "status": "completed"
    },
    "tags": []
   },
   "source": [
    "# Random Forest Classifier"
   ]
  },
  {
   "cell_type": "code",
   "execution_count": null,
   "id": "018dfcb3",
   "metadata": {
    "execution": {
     "iopub.execute_input": "2021-08-30T20:12:06.246895Z",
     "iopub.status.busy": "2021-08-30T20:12:06.241563Z",
     "iopub.status.idle": "2021-08-30T20:12:07.843261Z",
     "shell.execute_reply": "2021-08-30T20:12:07.842325Z",
     "shell.execute_reply.started": "2021-08-30T20:08:46.070078Z"
    },
    "papermill": {
     "duration": 1.669867,
     "end_time": "2021-08-30T20:12:07.843455",
     "exception": false,
     "start_time": "2021-08-30T20:12:06.173588",
     "status": "completed"
    },
    "tags": []
   },
   "outputs": [],
   "source": [
    "modelRF = Pipeline([('tfidf', TfidfVectorizer()),\n",
    "                ('rfc', RandomForestClassifier(n_estimators=100)),\n",
    "               ])\n",
    "\n",
    "modelRF.fit(X_train, Y_train)\n",
    "\n",
    "test_predict = modelRF.predict(X_test)\n",
    "\n",
    "train_accuracy = round(modelRF.score(X_train,Y_train)*100)\n",
    "test_accuracy =round(accuracy_score(test_predict, Y_test)*100)\n",
    "\n",
    "print(\"RF Train Accuracy Score : {}% \".format(train_accuracy ))\n",
    "print(\"RF Test Accuracy Score  : {}% \".format(test_accuracy ))\n",
    "print()\n",
    "print(classification_report(test_predict, Y_test, target_names=target_category))"
   ]
  },
  {
   "cell_type": "code",
   "execution_count": null,
   "id": "49949ad5",
   "metadata": {},
   "outputs": [],
   "source": [
    "from sklearn.metrics import confusion_matrix\n",
    "from sklearn.metrics import cohen_kappa_score\n",
    "cmSVC = confusion_matrix(Y_test, modelRF.predict(X_test))\n",
    "\n",
    "#If we use TP TN FP and FN of below's comment we get range\n",
    "#FP = cmSVC.sum(axis=0) - np.diag(cmSVC)  \n",
    "#FN = cmSVC.sum(axis=1) - np.diag(cmSVC)\n",
    "#TP = np.diag(cmSVC)\n",
    "#TN = cmSVC.sum() - (FP + FN + TP)\n",
    "\n",
    "TP = cmSVC[1,1]  \n",
    "TN = cmSVC[0,0] \n",
    "FP = cmSVC[0,1] \n",
    "FN = cmSVC[1,0] \n",
    "\n",
    "# Sensitivity, hit rate, recall, or true positive rate\n",
    "TPR = TP/float(TP+FN)\n",
    "# Specificity or true negative rate\n",
    "TNR = TN/float(TN+FP) \n",
    "# Precision or positive predictive value\n",
    "PPV = TP/float(TP+FP)\n",
    "# Negative predictive value\n",
    "NPV = TN/float(TN+FN)\n",
    "# Fall out or false positive rate\n",
    "FPR = FP/float(FP+TN)\n",
    "# False negative rate\n",
    "FNR = FN/float(TP+FN)\n",
    "# False discovery rate\n",
    "FDR = FP/float(TP+FP)\n",
    "totalSVC=sum(sum(cmSVC))\n",
    "Accuracy = (TN+TP)/totalSVC\n",
    "# MCC\n",
    "val = (TP * TN) - (FP * FN)\n",
    "MCC_SVC = val / np.sqrt((TP + FP) * (TP + FN) * (TN + FP) * (TN + FN))\n",
    "# Cohen Kappa\n",
    "Y_pred = modelRF.predict(X_test)\n",
    "cohen_score = cohen_kappa_score(Y_test, Y_pred)\n",
    "\n",
    "print(\"Sensitivity/TPR: \" + str(TPR))\n",
    "print(\"FPR: \" + str(FPR))\n",
    "print(\"Specificity/TNR: \" + str(TNR))\n",
    "print(\"MCC: \" + str(MCC_SVC))\n",
    "print(\"Cohen Kappa: \" + str(cohen_score))"
   ]
  },
  {
   "cell_type": "code",
   "execution_count": null,
   "id": "cf7d7765",
   "metadata": {},
   "outputs": [],
   "source": [
    "from sklearn.model_selection import cross_val_score\n",
    "cv_score_for_RF = cross_val_score(modelRF, X_train, Y_train, cv = 10)\n",
    "cv_score_for_RF"
   ]
  },
  {
   "cell_type": "markdown",
   "id": "29e488a2",
   "metadata": {},
   "source": [
    "## AdaBoost"
   ]
  },
  {
   "cell_type": "code",
   "execution_count": null,
   "id": "893725c1",
   "metadata": {},
   "outputs": [],
   "source": [
    "from sklearn.ensemble import AdaBoostClassifier\n",
    "modelAB = Pipeline([('tfidf', TfidfVectorizer()),\n",
    "                ('ab', AdaBoostClassifier()),\n",
    "               ])\n",
    "\n",
    "modelAB.fit(X_train, Y_train)\n",
    "\n",
    "test_predict = modelAB.predict(X_test)\n",
    "\n",
    "train_accuracy = round(modelAB.score(X_train,Y_train)*100)\n",
    "test_accuracy =round(accuracy_score(test_predict, Y_test)*100)\n",
    "\n",
    "print(\"AB Train Accuracy Score : {}% \".format(train_accuracy ))\n",
    "print(\"AB Test Accuracy Score  : {}% \".format(test_accuracy ))\n",
    "print()\n",
    "print(classification_report(test_predict, Y_test, target_names=target_category))"
   ]
  },
  {
   "cell_type": "code",
   "execution_count": null,
   "id": "702081d3",
   "metadata": {},
   "outputs": [],
   "source": [
    "from sklearn.metrics import confusion_matrix\n",
    "from sklearn.metrics import cohen_kappa_score\n",
    "cmSVC = confusion_matrix(Y_test, modelAB.predict(X_test))\n",
    "\n",
    "#If we use TP TN FP and FN of below's comment we get range\n",
    "#FP = cmSVC.sum(axis=0) - np.diag(cmSVC)  \n",
    "#FN = cmSVC.sum(axis=1) - np.diag(cmSVC)\n",
    "#TP = np.diag(cmSVC)\n",
    "#TN = cmSVC.sum() - (FP + FN + TP)\n",
    "\n",
    "TP = cmSVC[1,1]  \n",
    "TN = cmSVC[0,0] \n",
    "FP = cmSVC[0,1] \n",
    "FN = cmSVC[1,0] \n",
    "\n",
    "# Sensitivity, hit rate, recall, or true positive rate\n",
    "TPR = TP/float(TP+FN)\n",
    "# Specificity or true negative rate\n",
    "TNR = TN/float(TN+FP) \n",
    "# Precision or positive predictive value\n",
    "PPV = TP/float(TP+FP)\n",
    "# Negative predictive value\n",
    "NPV = TN/float(TN+FN)\n",
    "# Fall out or false positive rate\n",
    "FPR = FP/float(FP+TN)\n",
    "# False negative rate\n",
    "FNR = FN/float(TP+FN)\n",
    "# False discovery rate\n",
    "FDR = FP/float(TP+FP)\n",
    "totalSVC=sum(sum(cmSVC))\n",
    "Accuracy = (TN+TP)/totalSVC\n",
    "# MCC\n",
    "val = (TP * TN) - (FP * FN)\n",
    "MCC_SVC = val / np.sqrt((TP + FP) * (TP + FN) * (TN + FP) * (TN + FN))\n",
    "# Cohen Kappa\n",
    "Y_pred = modelAB.predict(X_test)\n",
    "cohen_score = cohen_kappa_score(Y_test, Y_pred)\n",
    "\n",
    "print(\"Sensitivity/TPR: \" + str(TPR))\n",
    "print(\"FPR: \" + str(FPR))\n",
    "print(\"Specificity/TNR: \" + str(TNR))\n",
    "print(\"MCC: \" + str(MCC_SVC))\n",
    "print(\"Cohen Kappa: \" + str(cohen_score))"
   ]
  },
  {
   "cell_type": "code",
   "execution_count": null,
   "id": "34ad8372",
   "metadata": {},
   "outputs": [],
   "source": [
    "from sklearn.model_selection import cross_val_score\n",
    "cv_score_for_AB = cross_val_score(modelAB, X_train, Y_train, cv = 10)\n",
    "cv_score_for_AB"
   ]
  },
  {
   "cell_type": "markdown",
   "id": "98461574",
   "metadata": {},
   "source": [
    "### Proposed Ensemble"
   ]
  },
  {
   "cell_type": "code",
   "execution_count": null,
   "id": "f58e0966",
   "metadata": {},
   "outputs": [],
   "source": [
    "# compare ensemble to each baseline classifier\n",
    "from numpy import mean\n",
    "from numpy import std\n",
    "from sklearn.datasets import make_classification\n",
    "from sklearn.model_selection import cross_val_score\n",
    "from sklearn.model_selection import RepeatedStratifiedKFold\n",
    "from sklearn.linear_model import LogisticRegression\n",
    "from sklearn.neighbors import KNeighborsClassifier\n",
    "from sklearn.tree import DecisionTreeClassifier\n",
    "from sklearn.svm import SVC\n",
    "from sklearn.naive_bayes import GaussianNB\n",
    "from sklearn.ensemble import StackingClassifier\n",
    "from matplotlib import pyplot\n",
    "\n",
    "# get the dataset\n",
    "#def get_dataset():\n",
    "#\tX, y = make_classification(n_samples=1000, n_features=20, n_informative=15, n_redundant=5, random_state=1)\n",
    "#\treturn X, y\n",
    "\n",
    "# get a stacking ensemble of models\n",
    "def get_stacking():\n",
    "\t# define the base models\n",
    "\tlevel0 = list()\n",
    "\tlevel0.append(('lr', LogisticRegression(solver='liblinear')))\n",
    "#\tlevel0.append(('knn', KNeighborsClassifier()))\n",
    "#\tlevel0.append(('cart', DecisionTreeClassifier()))\n",
    "\tlevel0.append(('svm', SVC(probability=True)))\n",
    "\tlevel0.append(('bayes', GaussianNB()))\n",
    "\t# define meta learner model\n",
    "\tlevel1 = SVC()\n",
    "\t# define the stacking ensemble\n",
    "\tmodel = StackingClassifier(estimators=level0, final_estimator=level1, cv=5)\n",
    "\treturn model\n",
    "\n",
    "# get a list of models to evaluate\n",
    "def get_models():\n",
    "\tmodels = dict()\n",
    "\tmodels['lr'] = LogisticRegression(solver='liblinear')\n",
    "#\tmodels['knn'] = KNeighborsClassifier()\n",
    "#\tmodels['cart'] = DecisionTreeClassifier()\n",
    "\tmodels['svm'] = SVC(probability=True)\n",
    "\tmodels['bayes'] = GaussianNB()\n",
    "\tmodels['stacking'] = get_stacking()\n",
    "\treturn models\n",
    "\n",
    "# evaluate a give model using cross-validation\n",
    "def evaluate_model(model, X, y):\n",
    "\tcv = RepeatedStratifiedKFold(n_splits=10, n_repeats=3, random_state=1)\n",
    "\tscores = cross_val_score(model, X, y, scoring='accuracy', cv=cv, n_jobs=-1, error_score='raise')\n",
    "\treturn scores\n",
    "\n",
    "\n",
    "# get the models to evaluate\n",
    "models = get_models()\n",
    "# evaluate the models and store results\n",
    "results, names = list(), list()\n",
    "for name, model in models.items():\n",
    "\tscores = evaluate_model(model, X_train, Y_train)\n",
    "\tresults.append(scores)\n",
    "\tnames.append(name)\n",
    "\tprint('>%s %.3f (%.3f)' % (name, mean(scores), std(scores)))\n",
    "# plot model performance for comparison\n",
    "pyplot.boxplot(results, labels=names, showmeans=True)\n",
    "pyplot.show()"
   ]
  },
  {
   "cell_type": "code",
   "execution_count": null,
   "id": "e67b4a7b",
   "metadata": {},
   "outputs": [],
   "source": [
    "from sklearn.ensemble import RandomForestClassifier\n",
    "from sklearn.linear_model import LogisticRegression\n",
    "from sklearn.ensemble import StackingClassifier\n",
    "\n",
    "from sklearn.ensemble import AdaBoostClassifier\n",
    "\n",
    "estimators = [\n",
    "         ('svc',SVC(random_state = 42)), \n",
    "         ('gnb', GaussianNB())\n",
    "    ]\n",
    "\n",
    "model = Pipeline([('tfidf', TfidfVectorizer()),\n",
    "                StackingClassifier(estimators=estimators, final_estimator = SVC(random_state = 42)),\n",
    "                 ])\n",
    "\n",
    "model.fit(X_train, Y_train)\n",
    "\n",
    "test_predict = model.predict(X_test)\n",
    "\n",
    "train_accuracy = round(model.score(X_train,Y_train)*100)\n",
    "test_accuracy =round(accuracy_score(test_predict, Y_test)*100)\n",
    "\n",
    "print(\"AB Train Accuracy Score : {}% \".format(train_accuracy ))\n",
    "print(\"AB Test Accuracy Score  : {}% \".format(test_accuracy ))\n",
    "print()\n",
    "print(classification_report(test_predict, Y_test, target_names=target_category))\n",
    "\n",
    "clf.fit(X_train, Y_train)\n",
    "\n",
    "test_predict = clf.predict(X_test)\n",
    "\n",
    "train_accuracy = round(clf.score(X_train,Y_train)*100)\n",
    "test_accuracy =round(accuracy_score(test_predict, Y_test)*100)\n",
    "\n",
    "print(\"Train Accuracy Score : {}% \".format(train_accuracy ))\n",
    "print(\"Test Accuracy Score  : {}% \".format(test_accuracy ))\n",
    "print()\n",
    "print(classification_report(test_predict, Y_test, target_names=target_category))"
   ]
  },
  {
   "cell_type": "code",
   "execution_count": null,
   "id": "4a69f375",
   "metadata": {},
   "outputs": [],
   "source": [
    "# from sklearn import metrics\n",
    "# import matplotlib.pyplot as plt\n",
    "\n",
    "# #define metrics\n",
    "# y_pred_proba = modelSVC.predict_proba(X_test)[::,1]\n",
    "# fpr, tpr, _ = metrics.roc_curve(Y_test,  y_pred_proba)\n",
    "# auc = metrics.roc_auc_score(Y_test, y_pred_proba)\n",
    "\n",
    "# #create ROC curve\n",
    "# plt.plot(fpr,tpr,label=\"AUC=\"+str(auc))\n",
    "# plt.ylabel('True Positive Rate')\n",
    "# plt.xlabel('False Positive Rate')\n",
    "# plt.legend(loc=4)\n",
    "# plt.show()"
   ]
  },
  {
   "cell_type": "markdown",
   "id": "f7a521b8",
   "metadata": {},
   "source": [
    "### ROC"
   ]
  },
  {
   "cell_type": "code",
   "execution_count": null,
   "id": "98964cc8",
   "metadata": {},
   "outputs": [],
   "source": [
    "# from sklearn.metrics import roc_curve\n",
    "\n",
    "# # predict probabilities\n",
    "# pred_prob1 = modelSVC.predict_proba(X_test)\n",
    "# pred_prob2 = modelDTC.predict_proba(X_test)\n",
    "# pred_prob3 = modelRF.predict_proba(X_test)\n",
    "# #pred_prob4 = modelGBC.predict_proba(X_test)\n",
    "# pred_prob5 = modelLR.predict_proba(X_test)\n",
    "# #pred_prob6 = modelMNB.predict_proba(X_test)\n",
    "# pred_prob7 = modelKNN.predict_proba(X_test)\n",
    "# # pred_prob8 = modelSGDC.predict_proba(X_test)\n",
    "# # pred_prob9 = modelMLP.predict_proba(X_test)\n",
    "# pred_prob10 = modelAB.predict_proba(X_test)\n",
    "# pred_prob11 = modelNB.predict_proba(X_test)\n",
    "# #pred_prob12 = modelLRMLP.predict_proba(X_test)\n",
    "\n",
    "# #print(pred_prob1)\n",
    "\n",
    "# # roc curve for models\n",
    "# fpr1, tpr1, thresh1 = roc_curve(Y_test, pred_prob1[:,1], pos_label = 1)\n",
    "# fpr2, tpr2, thresh2 = roc_curve(Y_test, pred_prob2[:,1], pos_label = 1)\n",
    "# fpr3, tpr3, thresh3 = roc_curve(Y_test, pred_prob3[:,1], pos_label = 1)\n",
    "# #fpr4, tpr4, thresh4 = roc_curve(Y_test, pred_prob4[:,1], pos_label = 1)\n",
    "# fpr5, tpr5, thresh5 = roc_curve(Y_test, pred_prob5[:,1], pos_label = 1)\n",
    "# #fpr6, tpr6, thresh6 = roc_curve(Y_test, pred_prob6[:,1], pos_label = 1)\n",
    "# fpr7, tpr7, thresh7 = roc_curve(Y_test, pred_prob7[:,1], pos_label = 1)\n",
    "# #fpr8, tpr8, thresh8 = roc_curve(Y_test, pred_prob8[:,1], pos_label = 1)\n",
    "# #fpr9, tpr9, thresh9 = roc_curve(Y_test, pred_prob9[:,1], pos_label = 1)\n",
    "# fpr10, tpr10, thresh10 = roc_curve(Y_test, pred_prob10[:,1], pos_label = 1)\n",
    "# fpr11, tpr11, thresh11 = roc_curve(Y_test, pred_prob11[:,1], pos_label = 1)\n",
    "# #fpr12, tpr12, thres12 = roc_curve(Y_test, pred_prob11[:,1], pos_label = 1)\n",
    "\n",
    "# print(fpr11, tpr11)\n",
    "\n",
    "# # roc curve for tpr = fpr \n",
    "# random_probs = [0 for i in range(len(Y_test))]\n",
    "# p_fpr, p_tpr, _ = roc_curve(Y_test, random_probs, pos_label=1)"
   ]
  },
  {
   "cell_type": "code",
   "execution_count": null,
   "id": "1257140e",
   "metadata": {},
   "outputs": [],
   "source": [
    "# import seaborn as sb\n",
    "# import matplotlib.pyplot as plt\n",
    "# plt.style.use('seaborn')\n",
    "# sb.set_theme(style = 'whitegrid')\n",
    "\n",
    "# # plot roc curves\n",
    "# plt.plot(fpr1, tpr1, linestyle = '--', color = 'magenta', label = 'SVM')\n",
    "# plt.plot(fpr2, tpr2, linestyle = '--', color = 'green', label = 'DT')\n",
    "# plt.plot(fpr3, tpr3, linestyle = '--', color = 'red', label = 'RF')\n",
    "# #plt.plot(fpr4, tpr4, linestyle = '--', color = 'purple', label = 'GB')\n",
    "# plt.plot(fpr5, tpr5, linestyle = '--', color = 'darkorange', label = 'LR')\n",
    "# #plt.plot(fpr6, tpr6, linestyle = '--', color = 'pink', label = 'MNB')\n",
    "# plt.plot(fpr7, tpr7, linestyle = '--', color = 'pink', label = 'KNN')\n",
    "# #plt.plot(fpr8, tpr8, linestyle = '--', color = 'cyan', label = 'SGD')\n",
    "# #plt.plot(fpr9, tpr9, linestyle = '--', color = 'blue', label = 'MLP')\n",
    "# plt.plot(fpr10, tpr10, linestyle = '--', color = 'brown', label = 'AB')\n",
    "# plt.plot(fpr11, tpr11, linestyle = '--', color = 'grey', label = 'NB')\n",
    "# #plt.plot(fpr12, tpr12, linestyle = '--', color = 'green', label = 'LR-MLP')\n",
    "# plt.plot(p_fpr, p_tpr, linestyle = '--', color = 'cornflowerblue')\n",
    "# # title\n",
    "# plt.title('ROC Curve')\n",
    "# # x label\n",
    "# plt.xlabel('False Positive Rate')\n",
    "# # y label\n",
    "# plt.ylabel('True Positive rate')\n",
    "\n",
    "# plt.legend(loc='best')\n",
    "# #plt.savefig('ROC',dpi=500)\n",
    "# plt.show();"
   ]
  },
  {
   "cell_type": "code",
   "execution_count": null,
   "id": "2d70e1f1",
   "metadata": {},
   "outputs": [],
   "source": []
  }
 ],
 "metadata": {
  "kernelspec": {
   "display_name": "Python 3 (ipykernel)",
   "language": "python",
   "name": "python3"
  },
  "language_info": {
   "codemirror_mode": {
    "name": "ipython",
    "version": 3
   },
   "file_extension": ".py",
   "mimetype": "text/x-python",
   "name": "python",
   "nbconvert_exporter": "python",
   "pygments_lexer": "ipython3",
   "version": "3.11.4"
  },
  "papermill": {
   "default_parameters": {},
   "duration": 139.806148,
   "end_time": "2021-08-30T20:12:49.035746",
   "environment_variables": {},
   "exception": null,
   "input_path": "__notebook__.ipynb",
   "output_path": "__notebook__.ipynb",
   "parameters": {},
   "start_time": "2021-08-30T20:10:29.229598",
   "version": "2.3.3"
  }
 },
 "nbformat": 4,
 "nbformat_minor": 5
}
